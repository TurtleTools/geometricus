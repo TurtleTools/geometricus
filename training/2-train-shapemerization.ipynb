{
 "cells": [
  {
   "cell_type": "code",
   "execution_count": null,
   "id": "18dfa935-c962-4813-a3ab-bc933c8ddbb5",
   "metadata": {
    "pycharm": {
     "name": "#%%\n"
    }
   },
   "outputs": [],
   "source": [
    "% load_ext autoreload\n",
    "% autoreload 2"
   ]
  },
  {
   "cell_type": "code",
   "execution_count": null,
   "id": "1b738ce1-a94b-4d72-a3c9-09ffdfaeb08b",
   "metadata": {
    "pycharm": {
     "name": "#%%\n"
    }
   },
   "outputs": [],
   "source": [
    "from collections import defaultdict\n",
    "from pathlib import Path\n",
    "\n",
    "import matplotlib.pyplot as plt\n",
    "import numpy as np\n",
    "import prody as pd\n",
    "import torch\n",
    "from sklearn import metrics\n",
    "from tqdm.notebook import tqdm\n",
    "\n",
    "from geometricus import sampling, moment_invariants, model_utility"
   ]
  },
  {
   "cell_type": "markdown",
   "id": "80c950e6-be9e-4377-ac4b-be1b605d8144",
   "metadata": {
    "pycharm": {
     "name": "#%% md\n"
    }
   },
   "source": [
    "# Making data"
   ]
  },
  {
   "cell_type": "code",
   "execution_count": null,
   "id": "96ae02a7",
   "metadata": {
    "collapsed": false,
    "jupyter": {
     "outputs_hidden": false
    },
    "pycharm": {
     "name": "#%%\n"
    }
   },
   "outputs": [],
   "source": [
    "data_folder = Path(\"data\")\n",
    "pdb_folder = data_folder / \"cath_data\" / \"dompdb\"\n",
    "matrices_folder = data_folder / \"cath_data\" / \"rotation_matrices\"\n",
    "training_data_folder = data_folder / \"training_data\"\n",
    "training_data_folder.mkdir(exist_ok=True)"
   ]
  },
  {
   "cell_type": "code",
   "execution_count": null,
   "id": "0ccf1ce4-3348-4a4e-ae18-dbc573e29a35",
   "metadata": {
    "pycharm": {
     "name": "#%%\n"
    }
   },
   "outputs": [],
   "source": [
    "funfam_clusters = {}\n",
    "id_to_funfam_cluster = {}\n",
    "superfamily_clusters = defaultdict(list)\n",
    "id_to_superfamily_cluster = {}\n",
    "with open(data_folder / \"cath_data\" / \"clusters.txt\") as f:\n",
    "    for line in tqdm(f):\n",
    "        match_id, query_ids = line.strip().split(\": \")\n",
    "        query_ids = query_ids.split(\", \")\n",
    "        funfam_clusters[match_id] = query_ids\n",
    "        superfamily_id = match_id.split(\"/FF\")[0]\n",
    "        superfamily_clusters[superfamily_id] += query_ids\n",
    "        for qid in query_ids:\n",
    "            id_to_funfam_cluster[qid] = match_id\n",
    "            id_to_superfamily_cluster[qid] = superfamily_id"
   ]
  },
  {
   "cell_type": "code",
   "execution_count": null,
   "id": "67518495-7ffc-409e-9e26-628312486276",
   "metadata": {
    "pycharm": {
     "name": "#%%\n"
    }
   },
   "outputs": [],
   "source": [
    "from geometricus import SplitInfo, SplitType\n",
    "SPLIT_INFOS = (SplitInfo(SplitType.RADIUS, 5),\n",
    "               SplitInfo(SplitType.RADIUS, 10),\n",
    "               SplitInfo(SplitType.KMER, 8),\n",
    "               SplitInfo(SplitType.KMER, 16))"
   ]
  },
  {
   "cell_type": "code",
   "execution_count": null,
   "id": "a0919585-7730-408c-a9c0-6347778b8d74",
   "metadata": {
    "pycharm": {
     "name": "#%%\n"
    }
   },
   "outputs": [],
   "source": [
    "protein_moments, errors = moment_invariants.get_invariants_for_files(pdb_folder, \n",
    "                                                                     split_infos=SPLIT_INFOS,\n",
    "                                                                     n_threads=10)"
   ]
  },
  {
   "cell_type": "code",
   "execution_count": null,
   "id": "1e206789-db78-4b30-91a5-8f7a910a32a4",
   "metadata": {},
   "outputs": [],
   "source": [
    "sampling.make_training_data_pair(training_data_folder, \n",
    "                            protein_moments,\n",
    "                            id_to_funfam_cluster,\n",
    "                            matrices_folder, pdb_folder, num_moments=num_moments)\n",
    "sampling.make_training_data_self(training_data_folder, \n",
    "                                 protein_moments, num_moments=num_moments)"
   ]
  },
  {
   "cell_type": "markdown",
   "id": "d64a912a-7902-469e-8fb0-8be723b7876c",
   "metadata": {
    "pycharm": {
     "name": "#%% md\n"
    }
   },
   "source": [
    "# Training"
   ]
  },
  {
   "cell_type": "code",
   "execution_count": null,
   "id": "131d7731-98b5-451d-81eb-ac9ce1d06154",
   "metadata": {
    "pycharm": {
     "is_executing": true,
     "name": "#%%\n"
    }
   },
   "outputs": [],
   "source": [
    "model_folder = data_folder / \"models\"\n",
    "model_folder.mkdir(exist_ok=True)"
   ]
  },
  {
   "cell_type": "code",
   "execution_count": null,
   "id": "acf9be42-4efc-4b11-a46c-ab4408149ea8",
   "metadata": {
    "pycharm": {
     "name": "#%%\n"
    }
   },
   "outputs": [],
   "source": [
    "data = sampling.Data.from_files(training_data_folder, [\"_self\", \"_pair\"], \"moments\", representation_length=68)"
   ]
  },
  {
   "cell_type": "code",
   "execution_count": null,
   "id": "6d74c80d-27a1-49d6-95a0-e9efafe08abb",
   "metadata": {
    "pycharm": {
     "name": "#%%\n"
    }
   },
   "outputs": [],
   "source": [
    "train_ids, test_ids = data.train_test_split(test_size=0.02, \n",
    "                                            rmsd_threshold=8, \n",
    "                                            ignore_first_last=True, \n",
    "                                            protein_lengths=protein_lengths)"
   ]
  },
  {
   "cell_type": "code",
   "execution_count": null,
   "id": "a23ee1e5-aead-46a2-bcc0-361320271e5e",
   "metadata": {
    "pycharm": {
     "name": "#%%\n"
    }
   },
   "outputs": [],
   "source": [
    "test_pairs_a, test_pairs_b, test_labels, test_rmsds = data.make_test(test_ids)"
   ]
  },
  {
   "cell_type": "code",
   "execution_count": null,
   "id": "14f99398-5f7b-45aa-8f1f-2916133a6063",
   "metadata": {},
   "outputs": [],
   "source": [
    "from scipy.spatial.distance import hamming\n",
    "from scipy import stats\n",
    "def get_hamming_distances(pairs_a, pairs_b):\n",
    "    return np.array([hamming(pa, pb) for pa, pb in zip(pairs_a, pairs_b)])"
   ]
  },
  {
   "cell_type": "code",
   "execution_count": null,
   "id": "c38da2f5-a6ec-434d-90e3-e7e9ed8af07b",
   "metadata": {
    "pycharm": {
     "name": "#%%\n"
    }
   },
   "outputs": [],
   "source": [
    "def plot_test_results(train_loss, discrete=True):\n",
    "    model.eval()\n",
    "    test_pairs_a_i, test_pairs_b_i, test_labels_i = model(test_pairs_a, test_pairs_b, test_labels)\n",
    "    loss = model_utility.loss_func(test_pairs_a_i, test_pairs_b_i, test_labels_i)\n",
    "    t1, t2 = test_pairs_a_i.cpu().detach().numpy(), test_pairs_b_i.cpu().detach().numpy()\n",
    "    if discrete:\n",
    "        t1b = np.array(model_utility.moment_tensors_to_bits(t1)) \n",
    "        t2b = np.array(model_utility.moment_tensors_to_bits(t2))\n",
    "        distances = NUM_BITS * get_hamming_distances(t1b, t2b)\n",
    "    else:\n",
    "        distances = np.abs(t1 - t2).mean(1)\n",
    "    test_labels_i = test_labels_i.cpu().detach().numpy().astype(int)\n",
    "    fig, (ax1, ax2, ax3) = plt.subplots(1, 3, figsize=(12, 4))\n",
    "    ax1.hexbin(test_rmsds, distances, cmap=\"RdBu\")\n",
    "    ax1.set_xlabel(\"RMSD\")\n",
    "    ax1.set_ylabel(\"Distance\")\n",
    "    metrics.PrecisionRecallDisplay.from_predictions(test_labels_i, -distances, ax=ax2)\n",
    "    metrics.RocCurveDisplay.from_predictions(test_labels_i, -distances, ax=ax3)\n",
    "    fig.suptitle(f\"Train loss: {train_loss:.3f} Test loss {loss.item():.3f}\\nSpearman correlation: {spearmanr(test_rmsds, distances)[0]:.3f}\")\n",
    "    plt.show()\n",
    "    model.train()"
   ]
  },
  {
   "cell_type": "code",
   "execution_count": null,
   "id": "7aac69a3-ae06-423d-8f12-2334c9075f0d",
   "metadata": {
    "pycharm": {
     "name": "#%%\n"
    }
   },
   "outputs": [],
   "source": [
    "epoch = 5\n",
    "NUM_HIDDEN = 32\n",
    "NUM_BITS = 10\n",
    "model = model_utility.ShapemerLearn(NUM_HIDDEN, NUM_BITS, split_infos=SPLIT_INFOS).cuda()\n",
    "optimizer = torch.optim.Adam(model.parameters(), lr=0.001)"
   ]
  },
  {
   "cell_type": "code",
   "execution_count": null,
   "id": "77a90060-2e38-4802-af15-52b671f293fd",
   "metadata": {
    "pycharm": {
     "name": "#%%\n"
    }
   },
   "outputs": [],
   "source": [
    "current_losses = []\n",
    "for e in range(epoch):\n",
    "    for x, (pair_a, pair_b, label) in enumerate(data.make_train_batches(train_ids)):\n",
    "        pair_a, pair_b, label = model(pair_a, pair_b, label)\n",
    "        loss = model_utility.loss_func(pair_a, pair_b, label)\n",
    "        optimizer.zero_grad()\n",
    "        loss.backward()\n",
    "        current_losses.append(loss.item())\n",
    "        optimizer.step()\n",
    "    plot_test_results(np.mean(current_losses))\n",
    "    plot_test_results(np.mean(current_losses), discrete=False)\n",
    "    current_losses = []\n",
    "plot_test_results(np.mean(current_losses))\n",
    "plot_test_results(np.mean(current_losses), discrete=False)"
   ]
  },
  {
   "cell_type": "code",
   "execution_count": null,
   "id": "90fca61f-d5ce-4b4f-8549-2c52453a38bb",
   "metadata": {
    "pycharm": {
     "name": "#%%\n"
    }
   },
   "outputs": [],
   "source": [
    "model.save(model_folder)"
   ]
  }
 ],
 "metadata": {
  "kernelspec": {
   "display_name": "Python 3 (ipykernel)",
   "language": "python",
   "name": "python3"
  },
  "language_info": {
   "codemirror_mode": {
    "name": "ipython",
    "version": 3
   },
   "file_extension": ".py",
   "mimetype": "text/x-python",
   "name": "python",
   "nbconvert_exporter": "python",
   "pygments_lexer": "ipython3",
   "version": "3.11.0"
  },
  "vscode": {
   "interpreter": {
    "hash": "8ab6a161ba03c21d4642db29cdaabcfb98eddbe4c95ae95609ca0691105e488b"
   }
  }
 },
 "nbformat": 4,
 "nbformat_minor": 5
}
