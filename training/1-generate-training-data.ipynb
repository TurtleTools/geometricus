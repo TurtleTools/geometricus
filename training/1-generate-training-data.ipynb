{
 "cells": [
  {
   "cell_type": "code",
   "execution_count": 1,
   "id": "841e84ed",
   "metadata": {},
   "outputs": [],
   "source": [
    "% load_ext autoreload\n",
    "% autoreload 2"
   ]
  },
  {
   "cell_type": "code",
   "execution_count": 2,
   "id": "b303f06e",
   "metadata": {},
   "outputs": [],
   "source": [
    "import subprocess\n",
    "from collections import defaultdict\n",
    "from pathlib import Path\n",
    "\n",
    "import numpy as np\n",
    "import pandas as pnd\n",
    "from tqdm.notebook import tqdm"
   ]
  },
  {
   "cell_type": "code",
   "execution_count": 3,
   "id": "f1c2f7e7",
   "metadata": {},
   "outputs": [],
   "source": [
    "data_folder = Path(\"data/cath_data\")\n",
    "data_folder.mkdir(exist_ok=True)"
   ]
  },
  {
   "cell_type": "markdown",
   "id": "8d034235",
   "metadata": {},
   "source": [
    "# Download CATH data"
   ]
  },
  {
   "cell_type": "code",
   "execution_count": 4,
   "id": "81704a84",
   "metadata": {},
   "outputs": [],
   "source": [
    "from ftplib import FTP"
   ]
  },
  {
   "cell_type": "code",
   "execution_count": 5,
   "id": "24047c40",
   "metadata": {},
   "outputs": [
    {
     "data": {
      "text/plain": [
       "'230 Login successful.'"
      ]
     },
     "execution_count": 5,
     "metadata": {},
     "output_type": "execute_result"
    }
   ],
   "source": [
    "ftp = FTP(\"orengoftp.biochem.ucl.ac.uk\")\n",
    "ftp.login()"
   ]
  },
  {
   "cell_type": "code",
   "execution_count": 6,
   "id": "eaa426e9",
   "metadata": {},
   "outputs": [
    {
     "data": {
      "text/plain": [
       "['cath-classification-data', 'non-redundant-data-sets', 'sequence-data']"
      ]
     },
     "execution_count": 6,
     "metadata": {},
     "output_type": "execute_result"
    }
   ],
   "source": [
    "ftp.cwd(\"cath/releases/latest-release/\")\n",
    "ftp.nlst()"
   ]
  },
  {
   "cell_type": "code",
   "execution_count": 7,
   "id": "a39ba131",
   "metadata": {},
   "outputs": [
    {
     "data": {
      "text/plain": [
       "['cath-dataset-nonredundant-S20.atom.fa',\n",
       " 'cath-dataset-nonredundant-S20.fa',\n",
       " 'cath-dataset-nonredundant-S20.list',\n",
       " 'cath-dataset-nonredundant-S20.pdb.tgz',\n",
       " 'cath-dataset-nonredundant-S40.atom.fa',\n",
       " 'cath-dataset-nonredundant-S40.fa',\n",
       " 'cath-dataset-nonredundant-S40.list',\n",
       " 'cath-dataset-nonredundant-S40.pdb.tgz']"
      ]
     },
     "execution_count": 7,
     "metadata": {},
     "output_type": "execute_result"
    }
   ],
   "source": [
    "ftp.cwd('non-redundant-data-sets')\n",
    "ftp.nlst()"
   ]
  },
  {
   "cell_type": "code",
   "execution_count": 14,
   "id": "f111980f",
   "metadata": {},
   "outputs": [],
   "source": [
    "filename = 'cath-dataset-nonredundant-S40.atom.fa'\n",
    "with open(data_folder / filename, \"wb\") as f:\n",
    "    ftp.retrbinary(f\"RETR {filename}\", f.write)"
   ]
  },
  {
   "cell_type": "markdown",
   "id": "62fa923c",
   "metadata": {},
   "source": [
    "```sh\n",
    "wget http://download.cathdb.info/cath/releases/all-releases/v4_2_0/sequence-data/funfam-hmm3-v4_2_0.lib.gz\n",
    "hmmpress funfam-hmm3-v4_2_0.lib\n",
    "\n",
    "git clone https://github.com/UCLOrengoGroup/cath-tools-genomescan.git\n",
    "cath-tools-genomescan/apps/cath-genomescan.pl -i data/cath-dataset-nonredundant-S40.atom.fa -l funfam-hmm3-v4_2_0.lib -o data/cath_funfam_results/\n",
    "```"
   ]
  },
  {
   "cell_type": "markdown",
   "id": "16358e08",
   "metadata": {},
   "source": [
    "# Get funfam clusters"
   ]
  },
  {
   "cell_type": "code",
   "execution_count": 5,
   "id": "e8b81ea6",
   "metadata": {},
   "outputs": [],
   "source": [
    "def filter_full_domains(row, threshold=0.9):\n",
    "    if \"(\" in row[\"query-id\"]:\n",
    "        return False\n",
    "    boundaries = row[\"query-id\"].split(\"/\")[-1]\n",
    "    length = 0\n",
    "    if \"_\" in boundaries:\n",
    "        return False\n",
    "    start, end = map(int, boundaries.lstrip(\"-\").split(\"-\"))\n",
    "    length += end - start\n",
    "    if \",\" in row[\"boundaries\"]:\n",
    "        return False\n",
    "    b_start, b_end = map(int, row[\"boundaries\"].split(\"-\"))\n",
    "    return ((b_end - b_start) / length) > threshold"
   ]
  },
  {
   "cell_type": "code",
   "execution_count": 9,
   "id": "b0dba2f7",
   "metadata": {},
   "outputs": [],
   "source": [
    "crh = pnd.read_csv(\"data/cath_funfam_results/cath-dataset-nonredundant-S40.atom.crh\", sep=\" \",\n",
    "                   comment=\"#\", names=\"query-id match-id score boundaries resolved cond-evalue indp-evalue\".split())"
   ]
  },
  {
   "cell_type": "code",
   "execution_count": 10,
   "id": "289e70cb",
   "metadata": {},
   "outputs": [],
   "source": [
    "crh = crh.groupby(\"query-id\", as_index=False).agg({x: \"min\" if x == \"indp-evalue\" else \"first\" for x in crh.columns})\n",
    "crh = crh[crh[\"indp-evalue\"] < 10e-10]"
   ]
  },
  {
   "cell_type": "code",
   "execution_count": 11,
   "id": "daca2713",
   "metadata": {},
   "outputs": [
    {
     "data": {
      "text/plain": [
       "(16382, 7)"
      ]
     },
     "execution_count": 11,
     "metadata": {},
     "output_type": "execute_result"
    }
   ],
   "source": [
    "crh.shape"
   ]
  },
  {
   "cell_type": "code",
   "execution_count": 12,
   "id": "abe5912c",
   "metadata": {},
   "outputs": [
    {
     "data": {
      "text/plain": [
       "(12154, 7)"
      ]
     },
     "execution_count": 12,
     "metadata": {},
     "output_type": "execute_result"
    }
   ],
   "source": [
    "crh = crh[crh.apply(filter_full_domains, axis=1)]\n",
    "crh.shape"
   ]
  },
  {
   "cell_type": "code",
   "execution_count": 110,
   "id": "23392198",
   "metadata": {
    "scrolled": true
   },
   "outputs": [
    {
     "data": {
      "text/plain": [
       "(12154, 8333)"
      ]
     },
     "execution_count": 110,
     "metadata": {},
     "output_type": "execute_result"
    }
   ],
   "source": [
    "len(crh[\"match-id\"]), len(set(crh[\"match-id\"]))"
   ]
  },
  {
   "cell_type": "code",
   "execution_count": 111,
   "id": "538e5ba0",
   "metadata": {},
   "outputs": [
    {
     "data": {
      "text/html": [
       "<div>\n",
       "<style scoped>\n",
       "    .dataframe tbody tr th:only-of-type {\n",
       "        vertical-align: middle;\n",
       "    }\n",
       "\n",
       "    .dataframe tbody tr th {\n",
       "        vertical-align: top;\n",
       "    }\n",
       "\n",
       "    .dataframe thead th {\n",
       "        text-align: right;\n",
       "    }\n",
       "</style>\n",
       "<table border=\"1\" class=\"dataframe\">\n",
       "  <thead>\n",
       "    <tr style=\"text-align: right;\">\n",
       "      <th></th>\n",
       "      <th>query-id</th>\n",
       "      <th>match-id</th>\n",
       "      <th>score</th>\n",
       "      <th>boundaries</th>\n",
       "      <th>resolved</th>\n",
       "      <th>cond-evalue</th>\n",
       "      <th>indp-evalue</th>\n",
       "    </tr>\n",
       "  </thead>\n",
       "  <tbody>\n",
       "    <tr>\n",
       "      <th>0</th>\n",
       "      <td>cath|current|12asA00/4-330</td>\n",
       "      <td>3.30.930.10/FF/31459</td>\n",
       "      <td>511.7</td>\n",
       "      <td>1-326</td>\n",
       "      <td>1-326</td>\n",
       "      <td>4.400000e-158</td>\n",
       "      <td>4.400000e-151</td>\n",
       "    </tr>\n",
       "    <tr>\n",
       "      <th>1</th>\n",
       "      <td>cath|current|132lA00/2-129</td>\n",
       "      <td>1.10.530.10/FF/12462</td>\n",
       "      <td>187.4</td>\n",
       "      <td>1-124</td>\n",
       "      <td>1-124</td>\n",
       "      <td>2.300000e-59</td>\n",
       "      <td>5.900000e-53</td>\n",
       "    </tr>\n",
       "    <tr>\n",
       "      <th>2</th>\n",
       "      <td>cath|current|153lA00/1-185</td>\n",
       "      <td>1.10.530.10/FF/12422</td>\n",
       "      <td>321.3</td>\n",
       "      <td>2-185</td>\n",
       "      <td>2-185</td>\n",
       "      <td>1.100000e-100</td>\n",
       "      <td>1.100000e-93</td>\n",
       "    </tr>\n",
       "    <tr>\n",
       "      <th>4</th>\n",
       "      <td>cath|current|16pkA02/199-406</td>\n",
       "      <td>3.40.50.1260/FF/4342</td>\n",
       "      <td>273.9</td>\n",
       "      <td>1-208</td>\n",
       "      <td>1-208</td>\n",
       "      <td>1.400000e-85</td>\n",
       "      <td>4.700000e-79</td>\n",
       "    </tr>\n",
       "    <tr>\n",
       "      <th>11</th>\n",
       "      <td>cath|current|1a02F00/140-192</td>\n",
       "      <td>1.20.5.170/FF/18272</td>\n",
       "      <td>76.3</td>\n",
       "      <td>1-53</td>\n",
       "      <td>1-53</td>\n",
       "      <td>9.500000e-26</td>\n",
       "      <td>9.500000e-19</td>\n",
       "    </tr>\n",
       "  </tbody>\n",
       "</table>\n",
       "</div>"
      ],
      "text/plain": [
       "                        query-id              match-id  score boundaries  \\\n",
       "0     cath|current|12asA00/4-330  3.30.930.10/FF/31459  511.7      1-326   \n",
       "1     cath|current|132lA00/2-129  1.10.530.10/FF/12462  187.4      1-124   \n",
       "2     cath|current|153lA00/1-185  1.10.530.10/FF/12422  321.3      2-185   \n",
       "4   cath|current|16pkA02/199-406  3.40.50.1260/FF/4342  273.9      1-208   \n",
       "11  cath|current|1a02F00/140-192   1.20.5.170/FF/18272   76.3       1-53   \n",
       "\n",
       "   resolved    cond-evalue    indp-evalue  \n",
       "0     1-326  4.400000e-158  4.400000e-151  \n",
       "1     1-124   2.300000e-59   5.900000e-53  \n",
       "2     2-185  1.100000e-100   1.100000e-93  \n",
       "4     1-208   1.400000e-85   4.700000e-79  \n",
       "11     1-53   9.500000e-26   9.500000e-19  "
      ]
     },
     "execution_count": 111,
     "metadata": {},
     "output_type": "execute_result"
    }
   ],
   "source": [
    "crh.head()"
   ]
  },
  {
   "cell_type": "code",
   "execution_count": 42,
   "id": "1f78b7b1",
   "metadata": {},
   "outputs": [],
   "source": [
    "with open(data_folder / \"clusters.txt\", \"w\") as f:\n",
    "    def align_domains(row):\n",
    "        if len(row[\"query-id\"]) > 1:\n",
    "            query_ids = [q.split(\"|\")[-1].split(\"/\")[0] for q in row[\"query-id\"]]\n",
    "            f.write(list(row[\"match-id\"])[0] + \": \" + \", \".join(query_ids) + \"\\n\")\n",
    "\n",
    "\n",
    "    crh.groupby(\"match-id\").apply(align_domains);"
   ]
  },
  {
   "cell_type": "code",
   "execution_count": 4,
   "id": "f5c493f9",
   "metadata": {},
   "outputs": [
    {
     "data": {
      "application/vnd.jupyter.widget-view+json": {
       "model_id": "d805293521484b02a7a888b6b77bdf52",
       "version_major": 2,
       "version_minor": 0
      },
      "text/plain": [
       "0it [00:00, ?it/s]"
      ]
     },
     "metadata": {},
     "output_type": "display_data"
    }
   ],
   "source": [
    "funfam_clusters = {}\n",
    "id_to_funfam_cluster = {}\n",
    "superfamily_clusters = defaultdict(list)\n",
    "id_to_superfamily_cluster = {}\n",
    "with open(data_folder / \"clusters.txt\") as f:\n",
    "    for line in tqdm(f):\n",
    "        match_id, query_ids = line.strip().split(\": \")\n",
    "        query_ids = query_ids.split(\", \")\n",
    "        funfam_clusters[match_id] = query_ids\n",
    "        superfamily_id = match_id.split(\"/FF\")[0]\n",
    "        superfamily_clusters[superfamily_id] += query_ids\n",
    "        for qid in query_ids:\n",
    "            id_to_funfam_cluster[qid] = match_id\n",
    "            id_to_superfamily_cluster[qid] = superfamily_id"
   ]
  },
  {
   "cell_type": "code",
   "execution_count": 5,
   "id": "d0d5f68a",
   "metadata": {},
   "outputs": [],
   "source": [
    "superfamily_ids = list(superfamily_clusters.keys())"
   ]
  },
  {
   "cell_type": "code",
   "execution_count": 6,
   "id": "34fd93a3",
   "metadata": {},
   "outputs": [
    {
     "data": {
      "text/plain": [
       "(1567, 721)"
      ]
     },
     "execution_count": 6,
     "metadata": {},
     "output_type": "execute_result"
    }
   ],
   "source": [
    "len(funfam_clusters), len(superfamily_clusters)"
   ]
  },
  {
   "cell_type": "code",
   "execution_count": 7,
   "id": "1533d305",
   "metadata": {},
   "outputs": [],
   "source": [
    "def choose_negatives(query_id, num_negatives, num_difficult=1):\n",
    "    negatives = []\n",
    "    superfamily_id = id_to_superfamily_cluster[query_id]\n",
    "    for n in range(min(num_difficult, len(superfamily_clusters[superfamily_id]) - 1)):\n",
    "        nid = superfamily_clusters[superfamily_id][n]\n",
    "        if id_to_funfam_cluster[nid] != id_to_funfam_cluster[query_id]:\n",
    "            negatives.append(nid)\n",
    "    num_left = num_negatives - len(negatives)\n",
    "    indices = np.random.choice([i for i in range(len(superfamily_ids)) if superfamily_ids[i] != superfamily_id],\n",
    "                               num_left)\n",
    "    for n in range(num_left):\n",
    "        ids = superfamily_clusters[superfamily_ids[indices[n]]]\n",
    "        negatives.append(ids[np.random.randint(len(ids))])\n",
    "    return negatives"
   ]
  },
  {
   "cell_type": "code",
   "execution_count": 8,
   "id": "db9750d4",
   "metadata": {},
   "outputs": [],
   "source": [
    "pdb_folder = data_folder / \"dompdb\"\n",
    "matrices_folder = data_folder / \"rotation_matrices\""
   ]
  },
  {
   "cell_type": "code",
   "execution_count": 84,
   "id": "9862ffcd",
   "metadata": {},
   "outputs": [
    {
     "data": {
      "application/vnd.jupyter.widget-view+json": {
       "model_id": "7f0110bb1b62466882a44bf98e14e0c5",
       "version_major": 2,
       "version_minor": 0
      },
      "text/plain": [
       "0it [00:00, ?it/s]"
      ]
     },
     "metadata": {},
     "output_type": "display_data"
    },
    {
     "name": "stderr",
     "output_type": "stream",
     "text": [
      "Warning! Cannot parse file: data/dompdb/2qe7G02. Chain number 0.\n",
      "Warning! Cannot parse file: data/dompdb/2qe7G02. Chain number 0.\n",
      "Warning! Cannot parse file: data/dompdb/2qe7G02. Chain number 0.\n",
      "Warning! Cannot parse file: data/dompdb/2qe7G02. Chain number 0.\n",
      "Warning! Cannot parse file: data/dompdb/2qe7G02. Chain number 0.\n"
     ]
    }
   ],
   "source": [
    "if not matrices_folder.exists():\n",
    "    matrices_folder.mkdir()\n",
    "with open(data_folder / \"clusters.txt\") as f:\n",
    "    for line in tqdm(f):\n",
    "        match_id, query_ids = line.strip().split(\": \")\n",
    "        query_ids = query_ids.split(\", \")\n",
    "        for q in query_ids:\n",
    "            negatives = choose_negatives(q, 3)\n",
    "            for n in negatives:\n",
    "                fasta_file = matrices_folder / f\"{q}_{n}.fasta\"\n",
    "                if fasta_file.exists():\n",
    "                    continue\n",
    "                with open(fasta_file, \"w\") as outfile:\n",
    "                    subprocess.run([\"USAlign\",\n",
    "                                    str(pdb_folder / q),\n",
    "                                    str(pdb_folder / n),\n",
    "                                    \"-mm\", \"1\", \"-ter\", \"1\",\n",
    "                                    \"-m\", matrices_folder / f\"{q}_{n}\",\n",
    "                                    \"-outfmt\", \"1\"],\n",
    "                                   stdout=outfile)\n",
    "\n",
    "        for q1 in range(len(query_ids) - 1):\n",
    "            for q2 in range(q1 + 1, len(query_ids)):\n",
    "                with open(matrices_folder / f\"{query_ids[q1]}_{query_ids[q2]}.fasta\", \"w\") as outfile:\n",
    "                    subprocess.run([\"USAlign\",\n",
    "                                    str(pdb_folder / query_ids[q1]),\n",
    "                                    str(pdb_folder / query_ids[q2]),\n",
    "                                    \"-mm\", \"1\", \"-ter\", \"1\",\n",
    "                                    \"-m\", matrices_folder / f\"{query_ids[q1]}_{query_ids[q2]}\",\n",
    "                                    \"-outfmt\", \"1\"],\n",
    "                                   stdout=outfile)"
   ]
  }
 ],
 "metadata": {
  "kernelspec": {
   "display_name": "shapemerization",
   "language": "python",
   "name": "shapemerization"
  },
  "language_info": {
   "codemirror_mode": {
    "name": "ipython",
    "version": 3
   },
   "file_extension": ".py",
   "mimetype": "text/x-python",
   "name": "python",
   "nbconvert_exporter": "python",
   "pygments_lexer": "ipython3",
   "version": "3.9.0"
  }
 },
 "nbformat": 4,
 "nbformat_minor": 5
}
